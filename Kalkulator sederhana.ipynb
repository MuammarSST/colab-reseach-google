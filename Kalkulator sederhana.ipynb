{
 "cells": [
  {
   "cell_type": "code",
   "execution_count": 1,
   "metadata": {},
   "outputs": [
    {
     "name": "stdout",
     "output_type": "stream",
     "text": [
      "hasil penambahan 7+9 = 16\n"
     ]
    }
   ],
   "source": [
    "aab = 7\n",
    "aba = 9\n",
    "abb = aab + aba\n",
    "print(\"hasil penambahan 7+9 =\",abb)"
   ]
  },
  {
   "cell_type": "code",
   "execution_count": 2,
   "metadata": {},
   "outputs": [
    {
     "name": "stdout",
     "output_type": "stream",
     "text": [
      "hasil perkalian 2*4 = 8\n"
     ]
    }
   ],
   "source": [
    "aab = 2\n",
    "aba = 4\n",
    "abb = aab * aba\n",
    "print(\"hasil perkalian 2*4 =\",abb)"
   ]
  },
  {
   "cell_type": "code",
   "execution_count": 3,
   "metadata": {},
   "outputs": [
    {
     "name": "stdout",
     "output_type": "stream",
     "text": [
      "hasil pembagian 10/5 = 2.0\n"
     ]
    }
   ],
   "source": [
    "aab = 10\n",
    "aba = 5\n",
    "abb = aab / aba\n",
    "print(\"hasil pembagian 10/5 =\",abb)"
   ]
  },
  {
   "cell_type": "code",
   "execution_count": 4,
   "metadata": {},
   "outputs": [
    {
     "name": "stdout",
     "output_type": "stream",
     "text": [
      "hasil pemangkatan 2 pangkat 5 = 32\n"
     ]
    }
   ],
   "source": [
    "aab = 2\n",
    "aba = 5\n",
    "abb = aab ** aba\n",
    "print(\"hasil pemangkatan 2 pangkat 5 =\",abb)"
   ]
  },
  {
   "cell_type": "code",
   "execution_count": 8,
   "metadata": {},
   "outputs": [
    {
     "name": "stdout",
     "output_type": "stream",
     "text": [
      "masukan pilihan\n",
      "belum dipih\n"
     ]
    }
   ],
   "source": [
    "def numbers_to_strings(argument):\n",
    "    switcher = {\n",
    "       \n",
    "        1: \"penambahan\",\n",
    "        2: \"perkalian\",\n",
    "        3: \"pembagian\",\n",
    "        4: \"pemangkatan\",\n",
    "    }\n",
    " \n",
    "\n",
    "    return switcher.get(argument, \"belum dipih\")\n",
    " \n",
    "# Driver program\n",
    "if __name__ == \"__main__\":\n",
    "    argument=input(print(\"masukan pilihan\"))\n",
    "\n",
    "    print (numbers_to_strings(argument))"
   ]
  },
  {
   "cell_type": "code",
   "execution_count": 5,
   "metadata": {},
   "outputs": [],
   "source": [
    "import os \n",
    "def ubahNilai(nilai):\n",
    "    os.system('clear')\n",
    "    lagi=\"Y\" or \"y\"\n",
    "    while (lagi==\"y\" or lagi==\"y\"):\n",
    "        os.system('clear')\n",
    "        if nilai >=0 and nilai <=19:\n",
    "            print(\"Nilai Anda E\")\n",
    "                \n",
    "        elif nilai >=20 and nilai <=44:\n",
    "            print(\"Nilai Anda D\")\n",
    "            \n",
    "        elif nilai >=45 and nilai <=64:\n",
    "            print(\"Nilai Anda C\")\n",
    "                \n",
    "        elif nilai >=65 and nilai <=79:\n",
    "            print(\"Nilai Anda B\")\n",
    "            \n",
    "        elif nilai >=80 and nilai <=100:\n",
    "            print(\"Nilai Anda A\")\n",
    "            \n",
    "        else:\n",
    "            print(\"Maaf Anda Salah Input\")\n",
    "        input(\"Mencoba lagi [Y/T]:\")\n",
    "\n"
   ]
  },
  {
   "cell_type": "code",
   "execution_count": 6,
   "metadata": {},
   "outputs": [
    {
     "name": "stdout",
     "output_type": "stream",
     "text": [
      "Pilih Operasi.\n",
      "1.Jumlah\n",
      "2.Kali\n",
      "3.Bagi\n",
      "4.pangkat\n",
      "1 + 2 = 3\n"
     ]
    }
   ],
   "source": [
    "def tambah(aab, aba):\n",
    "  return aab + aba\n",
    "\n",
    "# fungsi perkalian\n",
    "def kali(aab, aba):\n",
    "    return aab * aba\n",
    "# fungsi pembagian\n",
    "def bagi(aab, aba):\n",
    "    return aab / aba\n",
    "\n",
    "def pangkat(aab, aba):\n",
    "    return aab / aba\n",
    "# menu operasi\n",
    "print(\"Pilih Operasi.\")\n",
    "print(\"1.Jumlah\")\n",
    "print(\"2.Kali\")\n",
    "print(\"3.Bagi\")\n",
    "print(\"4.pangkat\")\n",
    "# Meminta input dari user\n",
    "bbb = input(\"Masukkan pilihan(1/2/3/4/5): \")\n",
    "cab = int(input(\"Masukkan bilangan pertama: \"))\n",
    "cba = int(input(\"Masukkan bilangan kedua: \"))\n",
    "if bbb == '1':\n",
    "   print(cab,\"+\",cba,\"=\", tambah(cab,cba))\n",
    "\n",
    "elif bbb == '2':\n",
    "     print(cab,\"*\",cba,\"=\", kurang(cab,cba))\n",
    "elif bbb == '3':\n",
    "     print(cab,\"/\",cba,\"=\", bagi(cab,cba))\n",
    "elif bbb == '4':\n",
    "     print(cab,\"**\",cba,\"=\", pangkat(cab,cba))\n",
    "else:\n",
    "     print(\"Input salah\")"
   ]
  },
  {
   "cell_type": "code",
   "execution_count": null,
   "metadata": {},
   "outputs": [],
   "source": []
  }
 ],
 "metadata": {
  "kernelspec": {
   "display_name": "Python 3.7.9 64-bit (microsoft store)",
   "language": "python",
   "name": "python3"
  },
  "language_info": {
   "codemirror_mode": {
    "name": "ipython",
    "version": 3
   },
   "file_extension": ".py",
   "mimetype": "text/x-python",
   "name": "python",
   "nbconvert_exporter": "python",
   "pygments_lexer": "ipython3",
   "version": "3.7.9"
  },
  "orig_nbformat": 4,
  "vscode": {
   "interpreter": {
    "hash": "4b3fcb4af0436bba8d30a7327afbfaa78a3581144a74c7e1620e6f70b1fada9c"
   }
  }
 },
 "nbformat": 4,
 "nbformat_minor": 2
}
