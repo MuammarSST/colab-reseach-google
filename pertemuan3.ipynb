{
 "cells": [
  {
   "cell_type": "code",
   "execution_count": 1,
   "metadata": {},
   "outputs": [],
   "source": [
    "def eval_postfix(text):\n",
    "  s=list()\n",
    "  for symbol in text:\n",
    "    if symbol in \"0123456789\":\n",
    "      s.append(int(symbol))\n",
    "\n",
    "      plus= None\n",
    "    elif not s.is_empty():\n",
    "      if symbol == \"+\":\n",
    "        plus=s.pop()+s.pop()\n",
    "      elif symbol == \"-\":\n",
    "        plus = s.pop() - s.pop()\n",
    "      elif symbol == \"*\":\n",
    "        plus = s.pop() * s.pop()\n",
    "      elif symbol == \"/\":\n",
    "         plus = s.pop()/s.pop()\n",
    "    if plus is not None:\n",
    "      s.append(plus)   \n",
    "    else:\n",
    "          raise Exception(\"unknown value %s\"%symbol)  \n",
    "  return s.pop()           \n",
    "\n"
   ]
  },
  {
   "cell_type": "code",
   "execution_count": 2,
   "metadata": {},
   "outputs": [
    {
     "name": "stdout",
     "output_type": "stream",
     "text": [
      "20\n"
     ]
    }
   ],
   "source": [
    "from functools import reduce\n",
    "\n",
    "def greater(a,b):\n",
    "  return a if a>b else b\n",
    "\n",
    "a=reduce(greater,[1,10,20,-1,3])\n",
    "print(a)"
   ]
  },
  {
   "cell_type": "code",
   "execution_count": 3,
   "metadata": {},
   "outputs": [
    {
     "name": "stdout",
     "output_type": "stream",
     "text": [
      "2\n",
      "4\n"
     ]
    }
   ],
   "source": [
    "def positive(n):\n",
    "  if n>0: return True\n",
    "  return False\n",
    "\n",
    "a= filter(positive,[-20, 2, 4, -4])\n",
    "for x in a:\n",
    "  print(x)"
   ]
  },
  {
   "cell_type": "code",
   "execution_count": 4,
   "metadata": {},
   "outputs": [
    {
     "name": "stdout",
     "output_type": "stream",
     "text": [
      "1\n",
      "2\n",
      "3\n",
      "0\n",
      "1\n",
      "2\n",
      "3\n",
      "0\n",
      "1\n"
     ]
    }
   ],
   "source": [
    "def mod4(n):\n",
    "  return n % 4\n",
    "\n",
    "a=map(mod4, range(1,10))\n",
    "\n",
    "for x in a:\n",
    "  print(x)\n"
   ]
  },
  {
   "cell_type": "code",
   "execution_count": 5,
   "metadata": {},
   "outputs": [
    {
     "name": "stdout",
     "output_type": "stream",
     "text": [
      "0\n"
     ]
    }
   ],
   "source": [
    "a=4%4\n",
    "print(a)"
   ]
  },
  {
   "cell_type": "code",
   "execution_count": 6,
   "metadata": {},
   "outputs": [
    {
     "name": "stdout",
     "output_type": "stream",
     "text": [
      "True\n",
      "python\n",
      "3\n",
      "False\n",
      "11.5\n",
      "True\n",
      "2\n"
     ]
    }
   ],
   "source": [
    "# STack ADT\n",
    "class Stack:\n",
    "    def __init__(self):\n",
    "        self.items = []\n",
    "\n",
    "    def isEmpty(self):\n",
    "        return self.items == []\n",
    "\n",
    "    def push(self, item):\n",
    "        self.items.append(item)\n",
    "\n",
    "    def pop(self):\n",
    "        return self.items.pop()\n",
    "\n",
    "    def peek(self):\n",
    "        return self.items[len(self.items) - 1]\n",
    "\n",
    "    def size(self):\n",
    "        return len(self.items)\n",
    "\n",
    "\n",
    "s=Stack()\n",
    "\n",
    "print(s.isEmpty())\n",
    "s.push(5)\n",
    "s.push('python')\n",
    "print(s.peek())\n",
    "s.push(True)\n",
    "print(s.size())\n",
    "print(s.isEmpty())\n",
    "s.push(11.5)\n",
    "print(s.pop())\n",
    "print(s.pop())\n",
    "print(s.size())\n",
    "\n",
    "\n"
   ]
  },
  {
   "cell_type": "code",
   "execution_count": 7,
   "metadata": {},
   "outputs": [
    {
     "name": "stdout",
     "output_type": "stream",
     "text": [
      "[1]\n"
     ]
    }
   ],
   "source": [
    "def f(list):\n",
    "  list.append(1)\n",
    "\n",
    "m=[]\n",
    "f(m)\n",
    "print(m)"
   ]
  },
  {
   "cell_type": "code",
   "execution_count": 8,
   "metadata": {},
   "outputs": [
    {
     "name": "stdout",
     "output_type": "stream",
     "text": [
      "[]\n"
     ]
    }
   ],
   "source": [
    "def f(list):\n",
    "  list=[1]\n",
    "m=[]\n",
    "f(m)\n",
    "print(m)  "
   ]
  }
 ],
 "metadata": {
  "kernelspec": {
   "display_name": "Python 3.7.9 64-bit (microsoft store)",
   "language": "python",
   "name": "python3"
  },
  "language_info": {
   "codemirror_mode": {
    "name": "ipython",
    "version": 3
   },
   "file_extension": ".py",
   "mimetype": "text/x-python",
   "name": "python",
   "nbconvert_exporter": "python",
   "pygments_lexer": "ipython3",
   "version": "3.7.9"
  },
  "orig_nbformat": 4,
  "vscode": {
   "interpreter": {
    "hash": "4b3fcb4af0436bba8d30a7327afbfaa78a3581144a74c7e1620e6f70b1fada9c"
   }
  }
 },
 "nbformat": 4,
 "nbformat_minor": 2
}
