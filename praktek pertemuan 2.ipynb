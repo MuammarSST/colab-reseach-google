{
 "cells": [
  {
   "cell_type": "code",
   "execution_count": 1,
   "metadata": {},
   "outputs": [
    {
     "name": "stdout",
     "output_type": "stream",
     "text": [
      "Nilai rata-rata 86.0\n"
     ]
    }
   ],
   "source": [
    "#soal latihan 1\n",
    "#Nama   :Muammar\n",
    "#Nim    :21/2006/0057/TSD/14\n",
    "#Prodi  :S2-MTI\n",
    "\n",
    "\"\"\"\n",
    "1. Buatlah program untuk menghitung nilai1=80, nilai2=70, nilai3=90, nilai4=100, nilai5=90,\n",
    "hitung jumlah nilai1 sampai nilai5, kemudian hitung nilai rara-ratanya.\n",
    "\"\"\"\n",
    "\n",
    "def Rata(x):\n",
    "  cek=sum(x)/len(x)\n",
    "  return cek\n",
    "\n",
    "\n",
    "nilai1=80\n",
    "nilai2=70\n",
    "nilai3=90\n",
    "nilai4=100\n",
    "nilai5=90\n",
    "\n",
    "\n",
    "list_data=[nilai1,nilai2,nilai3,nilai4,nilai5]\n",
    "nilai_rata_rata=Rata(list_data)\n",
    "\n",
    "print(\"Nilai rata-rata\",nilai_rata_rata)\n",
    "\n",
    "\n"
   ]
  },
  {
   "cell_type": "code",
   "execution_count": 3,
   "metadata": {},
   "outputs": [
    {
     "name": "stdout",
     "output_type": "stream",
     "text": [
      "Nilai rata-rata 17.6\n"
     ]
    }
   ],
   "source": [
    "#soal latihan 2\n",
    "#Nama   :Muammar\n",
    "#Nim    :21/2006/0057/TSD/14\n",
    "#Prodi  :S2-MTI\n",
    "\n",
    "\"\"\"\n",
    "2. Dari soal nomor 1, jika setiap nilai dijumlah, menggunakan prosentasi, nilai1*15%,\n",
    "nilai2*15%, nilai3*20%, nilai4*25%, nilai5*25%\n",
    "\"\"\"\n",
    "\n",
    "def Rata(x):\n",
    "  cek=sum(x)/len(x)\n",
    "  return cek\n",
    "\n",
    "\n",
    "nilai1=80*(15/100)\n",
    "nilai2=70*(15/100)\n",
    "nilai3=90*(20/100)\n",
    "nilai4=100*(25/100)\n",
    "nilai5=90*(25/100)\n",
    "\n",
    "\n",
    "list_data=[nilai1,nilai2,nilai3,nilai4,nilai5]\n",
    "nilai_rata_rata=Rata(list_data)\n",
    "\n",
    "print(\"Nilai rata-rata\",nilai_rata_rata)"
   ]
  },
  {
   "cell_type": "code",
   "execution_count": 4,
   "metadata": {},
   "outputs": [
    {
     "name": "stdout",
     "output_type": "stream",
     "text": [
      "Masukan Nilai Variabel a :\n",
      "Masukan Nilai Variabel b :\n",
      "Jumlah a+b/2 adalah: 6.0\n"
     ]
    }
   ],
   "source": [
    "#soal latihan 3\n",
    "#Nama   :Muammar\n",
    "#Nim    :21/2006/0057/TSD/14\n",
    "#Prodi  :S2-MTI\n",
    "\n",
    "\n",
    "\"\"\"\n",
    "3. Buatlah program untuk menghitung a+b/2, nilai varabel a, dan b diperoleh lewat input\n",
    "\"\"\"\n",
    "\n",
    "a=int(input(print(\"Masukan Nilai Variabel a :\")))\n",
    "b=int(input(print(\"Masukan Nilai Variabel b :\")))\n",
    "\n",
    "cek = (a+b)/2\n",
    "\n",
    "print (\"Jumlah a+b/2 adalah:\",float(cek))\n",
    "\n",
    "\n"
   ]
  },
  {
   "cell_type": "code",
   "execution_count": 5,
   "metadata": {},
   "outputs": [
    {
     "name": "stdout",
     "output_type": "stream",
     "text": [
      "Masukan Nilai Fahrenheit :\n",
      "konversi suhu Fahrenheit ke celcius adalah: 13.333333333333334 °C\n"
     ]
    }
   ],
   "source": [
    "#soal latihan 4\n",
    "#Nama   :Muammar\n",
    "#Nim    :21/2006/0057/TSD/14\n",
    "#Prodi  :S2-MTI\n",
    "\n",
    "\"\"\"\n",
    "4.Buatlah program untuk mengkonversi suhu dari Fahrenheit ke Celcius, dengan\n",
    "memasukkan nilia F= Fahrenheit, C=Celcius, rumus C=5/9*F-32\n",
    "\"\"\"\n",
    "\n",
    "f=int(input(print(\"Masukan Nilai Fahrenheit :\")))\n",
    "\n",
    "\n",
    "rumus_celcius=(f-32)*5/9\n",
    "\n",
    "print(\"konversi suhu Fahrenheit ke celcius adalah:\",float(rumus_celcius),\"°C\")"
   ]
  },
  {
   "cell_type": "code",
   "execution_count": null,
   "metadata": {},
   "outputs": [],
   "source": [
    "#soal Tugas 1\n",
    "#Nama   :Muammar\n",
    "#Nim    :21/2006/0057/TSD/14\n",
    "#Prodi  :S2-MTI\n",
    "\n",
    "\n",
    "\"\"\"\n",
    "Buatlah program menggunakan python untuk menghitung\n",
    "1. Segitiga Luas = 1/2 alas * tinggi\n",
    "\"\"\"\n",
    "alas=int(input(print(\"Masukan Nilai alas :\")))\n",
    "tinggi=int(input(print(\"Masukan Nilai tinggi :\")))\n",
    "Segitiga_Luas = (alas * tinggi)/2\n",
    "print(\"menghitung Segitiga Luas adalah:\",float(Segitiga_Luas))\n",
    "\n",
    "\n"
   ]
  },
  {
   "cell_type": "code",
   "execution_count": null,
   "metadata": {},
   "outputs": [],
   "source": [
    "#soal Tugas 2\n",
    "#Nama   :Muammar\n",
    "#Nim    :21/2006/0057/TSD/14\n",
    "#Prodi  :S2-MTI\n",
    "\n",
    "\n",
    "\"\"\"\n",
    "Buatlah program menggunakan python untuk menghitung\n",
    "2. Persegi panjang Keliling = 2(panjang + lebar); Luas = panjang x lebar\n",
    "\"\"\"\n",
    "panjang=int(input(print(\"Masukan Nilai panjang :\")))\n",
    "lebar=int(input(print(\"Masukan Nilai lebar :\")))\n",
    "Keliling = 2*(panjang+lebar)\n",
    "print(\"menghitung Keliling Persegi panjang  adalah:\",float(Keliling))"
   ]
  },
  {
   "cell_type": "code",
   "execution_count": null,
   "metadata": {},
   "outputs": [],
   "source": [
    "#soal Tugas 2\n",
    "#Nama   :Muammar\n",
    "#Nim    :21/2006/0057/TSD/14\n",
    "#Prodi  :S2-MTI\n",
    "\n",
    "\n",
    "\"\"\"\n",
    "Buatlah program menggunakan python untuk menghitung\n",
    "2. Persegi panjang Keliling = 2(panjang + lebar); Luas = panjang x lebar\n",
    "\"\"\"\n",
    "panjang=int(input(print(\"Masukan Nilai panjang :\")))\n",
    "lebar=int(input(print(\"Masukan Nilai lebar :\")))\n",
    "Luas = panjang*lebar\n",
    "print(\"menghitung Luas Persegi panjang  adalah:\",float(Luas))"
   ]
  },
  {
   "cell_type": "code",
   "execution_count": null,
   "metadata": {},
   "outputs": [],
   "source": [
    "#soal Tugas 3\n",
    "#Nama   :Muammar\n",
    "#Nim    :21/2006/0057/TSD/14\n",
    "#Prodi  :S2-MTI\n",
    "\n",
    "\n",
    "\"\"\"\n",
    "Buatlah program menggunakan python untuk menghitung\n",
    "3. Persegi Keliling = 4 * sisi; Luas = sisi x sisi\n",
    "\"\"\"\n",
    "sisi=int(input(print(\"Masukan Nilai sisi persegi :\")))\n",
    "\n",
    "Keliling = 4*sisi\n",
    "print(\"menghitung Luas Persegi adalah:\",float(Keliling))"
   ]
  },
  {
   "cell_type": "code",
   "execution_count": null,
   "metadata": {},
   "outputs": [],
   "source": [
    "#soal Tugas 3\n",
    "#Nama   :Muammar\n",
    "#Nim    :21/2006/0057/TSD/14\n",
    "#Prodi  :S2-MTI\n",
    "\n",
    "\n",
    "\"\"\"\n",
    "Buatlah program menggunakan python untuk menghitung\n",
    "3. Persegi Keliling = 4 * sisi; Luas = sisi x sisi\n",
    "\"\"\"\n",
    "Luas=float(input(print(\"Masukan Nilai sisi persegi :\")))\n",
    "\n",
    "Luas = sisi*sisi\n",
    "print(\"menghitung Luas Persegi adalah:\",float(Luas))"
   ]
  },
  {
   "cell_type": "code",
   "execution_count": null,
   "metadata": {},
   "outputs": [],
   "source": [
    "#soal Tugas 4\n",
    "#Nama   :Muammar\n",
    "#Nim    :21/2006/0057/TSD/14\n",
    "#Prodi  :S2-MTI\n",
    "\n",
    "\n",
    "\"\"\"\n",
    "Buatlah program menggunakan python untuk menghitung\n",
    "4. Jajaran genjang Keliling = 2(sisi atas + sisi bawah); Luas = sis bawah x tinggi\n",
    "\"\"\"\n",
    "sisi_atas=float(input(print(\"Masukan Nilai sisi atas :\")))\n",
    "sisi_bawah=float(input(print(\"Masukan Nilai sisi bawah :\")))\n",
    "\n",
    "Keliling = sisi_atas+sisi_bawah\n",
    "print(\"menghitung Keliling Jajaran genjang adalah:\",float(Keliling))"
   ]
  },
  {
   "cell_type": "code",
   "execution_count": null,
   "metadata": {},
   "outputs": [],
   "source": [
    "#soal Tugas 4\n",
    "#Nama   :Muammar\n",
    "#Nim    :21/2006/0057/TSD/14\n",
    "#Prodi  :S2-MTI\n",
    "\n",
    "\n",
    "\"\"\"\n",
    "Buatlah program menggunakan python untuk menghitung\n",
    "4. Jajaran genjang Keliling = 2(sisi atas + sisi bawah); Luas = sisi bawah x tinggi\n",
    "\"\"\"\n",
    "tinggi=float(input(print(\"Masukan Nilai tinggi :\")))\n",
    "sisi_bawah=float(input(print(\"Masukan Nilai sisi bawah :\")))\n",
    "\n",
    "Luas = sisi_bawah*tinggi\n",
    "print(\"menghitung Luas Jajaran genjang adalah:\",float(Luas))"
   ]
  },
  {
   "cell_type": "code",
   "execution_count": null,
   "metadata": {},
   "outputs": [],
   "source": [
    "#soal Tugas 5\n",
    "#Nama   :Muammar\n",
    "#Nim    :21/2006/0057/TSD/14\n",
    "#Prodi  :S2-MTI\n",
    "\n",
    "\n",
    "\"\"\"\n",
    "Buatlah program menggunakan python untuk menghitung\n",
    "5.Belah ketupat Keliling = 4 * sisi; Luas = 1/2 x D1 x D2\n",
    "\"\"\"\n",
    "\n",
    "sisi=float(input(print(\"Masukan Nilai sisi Belah ketupat :\")))\n",
    "\n",
    "Keliling = 4*sisi\n",
    "print(\"menghitung Keliling Belah ketupat adalah:\",float(Keliling))"
   ]
  },
  {
   "cell_type": "code",
   "execution_count": null,
   "metadata": {},
   "outputs": [],
   "source": [
    "#soal Tugas 5\n",
    "#Nama   :Muammar\n",
    "#Nim    :21/2006/0057/TSD/14\n",
    "#Prodi  :S2-MTI\n",
    "\n",
    "\n",
    "\"\"\"\n",
    "Buatlah program menggunakan python untuk menghitung\n",
    "5.Belah ketupat Keliling = 4 * sisi; Luas = 1/2 x D1 x D2\n",
    "\"\"\"\n",
    "\n",
    "d1=float(input(print(\"Masukan Nilai diagonal 1 Belah ketupat :\")))\n",
    "d2=float(input(print(\"Masukan Nilai diagonal 2 Belah ketupat :\")))\n",
    "\n",
    "\n",
    "Luas = (d1*d2)/2\n",
    "print(\"menghitung Luas Belah ketupat adalah:\",float(Luas))"
   ]
  },
  {
   "cell_type": "code",
   "execution_count": null,
   "metadata": {},
   "outputs": [],
   "source": [
    "#soal Tugas 6\n",
    "#Nama   :Muammar\n",
    "#Nim    :21/2006/0057/TSD/14\n",
    "#Prodi  :S2-MTI\n",
    "\n",
    "\n",
    "\"\"\"\n",
    "Buatlah program menggunakan python untuk menghitung\n",
    "6.Trapesium Keliling = a + b + c + d; Luas = 1/2 x (a + b) x t\n",
    "\"\"\"\n",
    "\n",
    "a=float(input(print(\"Masukan Nilai sisi a Trapesium :\")))\n",
    "b=float(input(print(\"Masukan Nilai sisi b Trapesium :\")))\n",
    "c=float(input(print(\"Masukan Nilai sisi c Trapesium :\")))\n",
    "d=float(input(print(\"Masukan Nilai sisi d Trapesium :\")))\n",
    "\n",
    "\n",
    "Keliling = a + b + c + d\n",
    "print(\"menghitung Keliling Trapesium adalah:\",float(Keliling))"
   ]
  },
  {
   "cell_type": "code",
   "execution_count": null,
   "metadata": {},
   "outputs": [],
   "source": [
    "#soal Tugas 6\n",
    "#Nama   :Muammar\n",
    "#Nim    :21/2006/0057/TSD/14\n",
    "#Prodi  :S2-MTI\n",
    "\n",
    "\n",
    "\"\"\"\n",
    "Buatlah program menggunakan python untuk menghitung\n",
    "6.Trapesium Keliling = a + b + c + d; Luas = 1/2 x (a + b) x t\n",
    "\"\"\"\n",
    "\n",
    "a=float(input(print(\"Masukan Nilai sisi a Trapesium :\")))\n",
    "b=float(input(print(\"Masukan Nilai sisi b Trapesium :\")))\n",
    "t=float(input(print(\"Masukan Nilai tinggi Trapesium :\")))\n",
    "\n",
    "\n",
    "\n",
    "Luas = ((a + b)/2) *t\n",
    "print(\"menghitung Luas Trapesium adalah:\",float(Luas))"
   ]
  }
 ],
 "metadata": {
  "kernelspec": {
   "display_name": "Python 3.7.9 64-bit (microsoft store)",
   "language": "python",
   "name": "python3"
  },
  "language_info": {
   "codemirror_mode": {
    "name": "ipython",
    "version": 3
   },
   "file_extension": ".py",
   "mimetype": "text/x-python",
   "name": "python",
   "nbconvert_exporter": "python",
   "pygments_lexer": "ipython3",
   "version": "3.7.9"
  },
  "orig_nbformat": 4,
  "vscode": {
   "interpreter": {
    "hash": "4b3fcb4af0436bba8d30a7327afbfaa78a3581144a74c7e1620e6f70b1fada9c"
   }
  }
 },
 "nbformat": 4,
 "nbformat_minor": 2
}
