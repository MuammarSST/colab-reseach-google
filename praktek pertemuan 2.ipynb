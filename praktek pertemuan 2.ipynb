{
 "cells": [
  {
   "cell_type": "code",
   "execution_count": 1,
   "metadata": {},
   "outputs": [
    {
     "name": "stdout",
     "output_type": "stream",
     "text": [
      "Nilai rata-rata 86.0\n"
     ]
    }
   ],
   "source": [
    "#soal latihan 1\n",
    "#Nama   :Muammar\n",
    "#Nim    :21/2006/0057/TSD/14\n",
    "#Prodi  :S2-MTI\n",
    "\n",
    "\"\"\"\n",
    "1. Buatlah program untuk menghitung nilai1=80, nilai2=70, nilai3=90, nilai4=100, nilai5=90,\n",
    "hitung jumlah nilai1 sampai nilai5, kemudian hitung nilai rara-ratanya.\n",
    "\"\"\"\n",
    "\n",
    "def Rata(x):\n",
    "  cek=sum(x)/len(x)\n",
    "  return cek\n",
    "\n",
    "\n",
    "nilai1=80\n",
    "nilai2=70\n",
    "nilai3=90\n",
    "nilai4=100\n",
    "nilai5=90\n",
    "\n",
    "\n",
    "list_data=[nilai1,nilai2,nilai3,nilai4,nilai5]\n",
    "nilai_rata_rata=Rata(list_data)\n",
    "\n",
    "print(\"Nilai rata-rata\",nilai_rata_rata)\n",
    "\n",
    "\n"
   ]
  },
  {
   "cell_type": "code",
   "execution_count": 3,
   "metadata": {},
   "outputs": [
    {
     "name": "stdout",
     "output_type": "stream",
     "text": [
      "Nilai rata-rata 17.6\n"
     ]
    }
   ],
   "source": [
    "#soal latihan 2\n",
    "#Nama   :Muammar\n",
    "#Nim    :21/2006/0057/TSD/14\n",
    "#Prodi  :S2-MTI\n",
    "\n",
    "\"\"\"\n",
    "2. Dari soal nomor 1, jika setiap nilai dijumlah, menggunakan prosentasi, nilai1*15%,\n",
    "nilai2*15%, nilai3*20%, nilai4*25%, nilai5*25%\n",
    "\"\"\"\n",
    "\n",
    "def Rata(x):\n",
    "  cek=sum(x)/len(x)\n",
    "  return cek\n",
    "\n",
    "\n",
    "nilai1=80*(15/100)\n",
    "nilai2=70*(15/100)\n",
    "nilai3=90*(20/100)\n",
    "nilai4=100*(25/100)\n",
    "nilai5=90*(25/100)\n",
    "\n",
    "\n",
    "list_data=[nilai1,nilai2,nilai3,nilai4,nilai5]\n",
    "nilai_rata_rata=Rata(list_data)\n",
    "\n",
    "print(\"Nilai rata-rata\",nilai_rata_rata)"
   ]
  },
  {
   "cell_type": "code",
   "execution_count": 4,
   "metadata": {},
   "outputs": [
    {
     "name": "stdout",
     "output_type": "stream",
     "text": [
      "Masukan Nilai Variabel a :\n",
      "Masukan Nilai Variabel b :\n",
      "Jumlah a+b/2 adalah: 6.0\n"
     ]
    }
   ],
   "source": [
    "#soal latihan 3\n",
    "#Nama   :Muammar\n",
    "#Nim    :21/2006/0057/TSD/14\n",
    "#Prodi  :S2-MTI\n",
    "\n",
    "\n",
    "\"\"\"\n",
    "3. Buatlah program untuk menghitung a+b/2, nilai varabel a, dan b diperoleh lewat input\n",
    "\"\"\"\n",
    "\n",
    "a=int(input(print(\"Masukan Nilai Variabel a :\")))\n",
    "b=int(input(print(\"Masukan Nilai Variabel b :\")))\n",
    "\n",
    "cek = (a+b)/2\n",
    "\n",
    "print (\"Jumlah a+b/2 adalah:\",float(cek))\n",
    "\n",
    "\n"
   ]
  }
 ],
 "metadata": {
  "kernelspec": {
   "display_name": "Python 3.7.9 64-bit (microsoft store)",
   "language": "python",
   "name": "python3"
  },
  "language_info": {
   "codemirror_mode": {
    "name": "ipython",
    "version": 3
   },
   "file_extension": ".py",
   "mimetype": "text/x-python",
   "name": "python",
   "nbconvert_exporter": "python",
   "pygments_lexer": "ipython3",
   "version": "3.7.9"
  },
  "orig_nbformat": 4,
  "vscode": {
   "interpreter": {
    "hash": "4b3fcb4af0436bba8d30a7327afbfaa78a3581144a74c7e1620e6f70b1fada9c"
   }
  }
 },
 "nbformat": 4,
 "nbformat_minor": 2
}
