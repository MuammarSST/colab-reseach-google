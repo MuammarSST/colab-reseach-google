{
 "cells": [
  {
   "cell_type": "code",
   "execution_count": 4,
   "metadata": {},
   "outputs": [
    {
     "name": "stdout",
     "output_type": "stream",
     "text": [
      ">>>>> Terima Kasih Anda Telah Menggunakan program ini <<<<<\n"
     ]
    }
   ],
   "source": [
    "#latihan 1\n",
    "#Nama:Muammar\n",
    "#Nim:21/2006/0057/TSD/14\n",
    "#Prodi: S2-MTI\n",
    "    \n",
    "import os \n",
    "def ubahNilai(nilai):\n",
    "    os.system('clear')\n",
    "    lagi=\"Y\" or \"y\"\n",
    "    while (lagi== \"y\" or lagi==\"y\"):\n",
    "      os.system('clear')\n",
    "      if nilai >=0 and nilai <=19:\n",
    "        print(\"Nilai Anda E\")\n",
    "                \n",
    "      elif nilai >=20 and nilai <=44:\n",
    "        print(\"Nilai Anda D\")\n",
    "            \n",
    "      elif nilai >=45 and nilai <=64:\n",
    "        print(\"Nilai Anda C\")\n",
    "                \n",
    "      elif nilai >=65 and nilai <=79:\n",
    "        print(\"Nilai Anda B\")\n",
    "            \n",
    "      elif nilai >=80 and nilai <=100:\n",
    "        print(\"Nilai Anda A\")\n",
    "            \n",
    "      else:\n",
    "        print(\"Maaf Anda Salah Input\")\n",
    "    lagi=input(\"Mencoba lagi [Y/T]:\")\n",
    "\n",
    "    print(\">>>>> Terima Kasih Anda Telah Menggunakan program ini <<<<<\")\n",
    "  \n",
    "        \n",
    "        \n",
    "ubahNilai(int(input(\"Masukan Nilai Angka [0..100]:\")))\n",
    "   "
   ]
  }
 ],
 "metadata": {
  "kernelspec": {
   "display_name": "Python 3.7.9 64-bit (microsoft store)",
   "language": "python",
   "name": "python3"
  },
  "language_info": {
   "codemirror_mode": {
    "name": "ipython",
    "version": 3
   },
   "file_extension": ".py",
   "mimetype": "text/x-python",
   "name": "python",
   "nbconvert_exporter": "python",
   "pygments_lexer": "ipython3",
   "version": "3.7.9"
  },
  "orig_nbformat": 4,
  "vscode": {
   "interpreter": {
    "hash": "4b3fcb4af0436bba8d30a7327afbfaa78a3581144a74c7e1620e6f70b1fada9c"
   }
  }
 },
 "nbformat": 4,
 "nbformat_minor": 2
}
